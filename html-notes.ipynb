{
 "cells": [
  {
   "cell_type": "markdown",
   "id": "e5bc03be-f36c-4f06-9112-ee0c6f734293",
   "metadata": {},
   "source": [
    "# HTML Notes\n",
    "***"
   ]
  },
  {
   "cell_type": "markdown",
   "id": "082ecb4e-def5-4307-8451-73ecb2d347ea",
   "metadata": {},
   "source": [
    "## Subheading"
   ]
  },
  {
   "cell_type": "markdown",
   "id": "39899775-003a-483c-bf3d-182b8c4e0fa6",
   "metadata": {},
   "source": [
    "<p>This is a paragraph</p>"
   ]
  },
  {
   "cell_type": "markdown",
   "id": "092b9026-6810-4af7-b85d-3ee7d1d100b5",
   "metadata": {},
   "source": [
    "In `HTML` the `<p>` tag"
   ]
  },
  {
   "cell_type": "markdown",
   "id": "2d0c2dd6-29da-407d-904d-a94281f67a16",
   "metadata": {},
   "source": [
    "```\n",
    "<body>\n",
    "    <p>This is a pargraph</p>\n",
    "</body>\n",
    "```"
   ]
  },
  {
   "cell_type": "markdown",
   "id": "1fcad616-9fc8-4981-8111-14d0c7e54a32",
   "metadata": {},
   "source": [
    "__Bold text__"
   ]
  },
  {
   "cell_type": "markdown",
   "id": "21467727-4d32-4e0a-9cbd-cb085b64e571",
   "metadata": {},
   "source": [
    "1. Hi\n",
    "2. there\n",
    "3. Hello\n",
    "4. back"
   ]
  },
  {
   "cell_type": "markdown",
   "id": "ddeae66c-65ca-4c38-9a25-3009dfeafaa6",
   "metadata": {},
   "source": [
    "*italic*"
   ]
  },
  {
   "cell_type": "markdown",
   "id": "7e9a6b12-9cf4-4ce7-9a70-473352af74a6",
   "metadata": {},
   "source": [
    "[Chinchilla](https://www.newhay.co.uk/cdn/shop/articles/Untitled_design_8_1100x.jpg?v=1630405593)"
   ]
  },
  {
   "cell_type": "markdown",
   "id": "24b2b6a6-4a00-4028-8a22-67ef48c9ad42",
   "metadata": {},
   "source": [
    "### HTML Structure\n",
    "***"
   ]
  },
  {
   "cell_type": "markdown",
   "id": "2ea4eae7-da9e-4ad9-b63f-960afa07ad75",
   "metadata": {},
   "source": [
    "```\n",
    "<!DOCTYPE>\n",
    "<html>\n",
    "   <head>\n",
    "      <title>Title</title>\n",
    "   </head>\n",
    "   <body>\n",
    "      <h1>Heading</h1>\n",
    "      <p>Paragraph</p>\n",
    "   </body>\n",
    "</html>"
   ]
  },
  {
   "cell_type": "markdown",
   "id": "26109cdf-05c5-47ec-a96e-fe939a8c9bc5",
   "metadata": {},
   "source": [
    "### Key Elemnts\n",
    "***"
   ]
  },
  {
   "cell_type": "markdown",
   "id": "8018168a-db26-417a-9552-e0d27469609f",
   "metadata": {},
   "source": [
    "```\n",
    "<<<!DOCTYPE html>\n",
    "\n",
    "<html>\n",
    "\n",
    "<head>\n",
    "\n",
    "<body>"
   ]
  },
  {
   "cell_type": "markdown",
   "id": "61cff675-22a2-473b-b39a-db60d14733fb",
   "metadata": {},
   "source": [
    "### 2. Common HTML Tags"
   ]
  },
  {
   "cell_type": "markdown",
   "id": "220bf1a4-0d90-4a9d-ab7f-15b19320a7e8",
   "metadata": {},
   "source": [
    "#### Headings"
   ]
  },
  {
   "cell_type": "code",
   "execution_count": null,
   "id": "b18a24f0-efc5-496a-8b13-d9a3c8201a5d",
   "metadata": {},
   "outputs": [],
   "source": []
  }
 ],
 "metadata": {
  "kernelspec": {
   "display_name": "Python 3 (ipykernel)",
   "language": "python",
   "name": "python3"
  },
  "language_info": {
   "codemirror_mode": {
    "name": "ipython",
    "version": 3
   },
   "file_extension": ".py",
   "mimetype": "text/x-python",
   "name": "python",
   "nbconvert_exporter": "python",
   "pygments_lexer": "ipython3",
   "version": "3.12.1"
  }
 },
 "nbformat": 4,
 "nbformat_minor": 5
}
